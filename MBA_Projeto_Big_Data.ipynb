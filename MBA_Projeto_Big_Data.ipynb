{
  "nbformat": 4,
  "nbformat_minor": 0,
  "metadata": {
    "colab": {
      "provenance": [],
      "toc_visible": true,
      "mount_file_id": "16dV1eFOgwbCLPM-S3pU3NSl9ZlCJHcL-",
      "authorship_tag": "ABX9TyOLVoI6Lb5OnRByuqGOfp3n",
      "include_colab_link": true
    },
    "kernelspec": {
      "name": "python3",
      "display_name": "Python 3"
    },
    "language_info": {
      "name": "python"
    }
  },
  "cells": [
    {
      "cell_type": "markdown",
      "metadata": {
        "id": "view-in-github",
        "colab_type": "text"
      },
      "source": [
        "<a href=\"https://colab.research.google.com/github/JordanOliveiraDS/MBA_Projeto_Big_Data/blob/main/MBA_Projeto_Big_Data.ipynb\" target=\"_parent\"><img src=\"https://colab.research.google.com/assets/colab-badge.svg\" alt=\"Open In Colab\"/></a>"
      ]
    },
    {
      "cell_type": "code",
      "execution_count": 4,
      "metadata": {
        "id": "mff91Y0VUVXm"
      },
      "outputs": [],
      "source": [
        "import pandas as pd\n",
        "import datetime as dt"
      ]
    },
    {
      "cell_type": "code",
      "source": [
        "arquivo = pd.read_excel('/content/drive/MyDrive/Projeto_Big_Data/netflix daily top 10.xlsx')"
      ],
      "metadata": {
        "id": "HtEykjjGUdsV"
      },
      "execution_count": 6,
      "outputs": []
    },
    {
      "cell_type": "code",
      "source": [
        "# Verificando a quantidade de Linhas e Colunas\n",
        "\n",
        "arquivo.shape"
      ],
      "metadata": {
        "id": "LHtoC7UmWs1S"
      },
      "execution_count": null,
      "outputs": []
    },
    {
      "cell_type": "code",
      "source": [
        "# Verificar a base carregada\n",
        "\n",
        "arquivo.head()"
      ],
      "metadata": {
        "id": "MfmkPGxaWugI"
      },
      "execution_count": null,
      "outputs": []
    },
    {
      "cell_type": "code",
      "source": [
        "arquivo.tail()"
      ],
      "metadata": {
        "id": "SjzxPXH8bWNy"
      },
      "execution_count": null,
      "outputs": []
    },
    {
      "cell_type": "code",
      "source": [
        "# Verificar o tamanho da base\n",
        "\n",
        "display(arquivo)"
      ],
      "metadata": {
        "id": "plIxpEvLW5cO"
      },
      "execution_count": null,
      "outputs": []
    },
    {
      "cell_type": "code",
      "source": [
        "# Avaliando o período de análise\n",
        "\n",
        "inicio = pd.to_datetime(arquivo['As of']).dt.date.min()\n",
        "\n",
        "print(inicio)"
      ],
      "metadata": {
        "id": "0XzHW73cYDkT"
      },
      "execution_count": null,
      "outputs": []
    },
    {
      "cell_type": "code",
      "source": [
        "fim = pd.to_datetime(arquivo['As of']).dt.date.max()\n",
        "\n",
        "print(fim)"
      ],
      "metadata": {
        "id": "MU7JZCbEYmcJ"
      },
      "execution_count": null,
      "outputs": []
    },
    {
      "cell_type": "code",
      "source": [
        "# Avaliando os valores nulos e tipo de dados\n",
        "\n",
        "arquivo.info()"
      ],
      "metadata": {
        "id": "zcFsxAr-Zvzr"
      },
      "execution_count": null,
      "outputs": []
    },
    {
      "cell_type": "code",
      "source": [
        "# Detalhando os valores nulos\n",
        "\n",
        "arquivo['Netflix Exclusive'].value_counts()"
      ],
      "metadata": {
        "id": "BO2K2uK-baBx"
      },
      "execution_count": null,
      "outputs": []
    },
    {
      "cell_type": "code",
      "source": [
        "# Análises estatísticos da base\n",
        "\n",
        "arquivo.describe()"
      ],
      "metadata": {
        "id": "OiabMZ8YcO7Q"
      },
      "execution_count": null,
      "outputs": []
    },
    {
      "cell_type": "code",
      "source": [
        "# Análise estatístico de forma gráfica\n",
        "\n",
        "arquivo.plot(kind='box',figsize=(10,6),subplots=True);"
      ],
      "metadata": {
        "id": "zMp3tR_IcYa_"
      },
      "execution_count": null,
      "outputs": []
    },
    {
      "cell_type": "code",
      "source": [
        "# Avaliando os casos Outilers\n",
        "\n",
        "arquivo[arquivo['Days In Top 10'] >=100]"
      ],
      "metadata": {
        "id": "mraqiZ-_dO_n"
      },
      "execution_count": null,
      "outputs": []
    },
    {
      "cell_type": "code",
      "source": [
        "# Seguindo com a análise exploratória dos dados\n",
        "\n",
        "arquivo.Title.value_counts"
      ],
      "metadata": {
        "id": "hnr_N2y2frCm"
      },
      "execution_count": null,
      "outputs": []
    },
    {
      "cell_type": "code",
      "source": [
        "arquivo.Type.value_counts().plot(kind='bar')"
      ],
      "metadata": {
        "id": "pGOMQ7xJf1mR"
      },
      "execution_count": null,
      "outputs": []
    },
    {
      "cell_type": "code",
      "source": [
        "arquivo['Viewership Score'].hist()"
      ],
      "metadata": {
        "id": "wpecVbYzgCKg"
      },
      "execution_count": null,
      "outputs": []
    },
    {
      "cell_type": "code",
      "source": [
        "arquivo[arquivo['Viewership Score'] == arquivo['Viewership Score'].max()]"
      ],
      "metadata": {
        "id": "hiihy-ZzgNgA"
      },
      "execution_count": null,
      "outputs": []
    }
  ]
}